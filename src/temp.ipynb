{
 "cells": [
  {
   "cell_type": "code",
   "execution_count": 2,
   "id": "094d5d40",
   "metadata": {},
   "outputs": [],
   "source": [
    "from stockfish import Stockfish\n",
    "\n",
    "stockfish_executable = (\n",
    "    \"/home/pd468/cs670/project/expert_models/stockfish/stockfish-ubuntu-x86-64-avx2\"\n",
    ")\n",
    "\n",
    "stockfish = Stockfish(\n",
    "    path=stockfish_executable, depth=15, parameters={\"Skill Level\": 20}\n",
    ")"
   ]
  },
  {
   "cell_type": "code",
   "execution_count": 7,
   "id": "da2db369",
   "metadata": {},
   "outputs": [],
   "source": [
    "import gym"
   ]
  }
 ],
 "metadata": {
  "kernelspec": {
   "display_name": "cs670",
   "language": "python",
   "name": "python3"
  },
  "language_info": {
   "codemirror_mode": {
    "name": "ipython",
    "version": 3
   },
   "file_extension": ".py",
   "mimetype": "text/x-python",
   "name": "python",
   "nbconvert_exporter": "python",
   "pygments_lexer": "ipython3",
   "version": "3.10.16"
  }
 },
 "nbformat": 4,
 "nbformat_minor": 5
}
