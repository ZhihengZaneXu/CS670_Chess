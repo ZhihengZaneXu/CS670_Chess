{
 "cells": [
  {
   "cell_type": "code",
   "execution_count": 17,
   "id": "c35b1f1d",
   "metadata": {},
   "outputs": [
    {
     "name": "stdout",
     "output_type": "stream",
     "text": [
      "Created Stockfish opponent with depth 15\n",
      "Using cuda device\n",
      "Wrapping the env with a `Monitor` wrapper\n",
      "Wrapping the env in a DummyVecEnv.\n"
     ]
    },
    {
     "name": "stderr",
     "output_type": "stream",
     "text": [
      "/home/pd468/.local/lib/python3.10/site-packages/stable_baselines3/common/vec_env/patch_gym.py:49: UserWarning: You provided an OpenAI Gym environment. We strongly recommend transitioning to Gymnasium environments. Stable-Baselines3 is automatically wrapping your environments in a compatibility layer, which could potentially cause issues.\n",
      "  warnings.warn(\n"
     ]
    },
    {
     "name": "stdout",
     "output_type": "stream",
     "text": [
      "Wrapping the env with a `Monitor` wrapper\n",
      "Wrapping the env in a DummyVecEnv.\n"
     ]
    }
   ],
   "source": [
    "from stable_baselines3 import PPO\n",
    "from environment import create_environment\n",
    "import chess\n",
    "from expert import ChessExpert, ModelOpponent\n",
    "from utils import FrequentLoggingCallback, create_chess_agent, selections_to_move\n",
    "\n",
    "# 1.1 Create the env exactly as during training (masks, opponent off if self‑play)\n",
    "env = create_environment(\n",
    "    use_expert=True,\n",
    "    include_masks=True,\n",
    "    stockfish_opponent=None,\n",
    "    agent_color=chess.WHITE,\n",
    ")\n",
    "agent = create_chess_agent(\n",
    "    env,\n",
    "    gamma=0.99,\n",
    "    n_steps=512,\n",
    "    learning_rate=3e-4\n",
    ")\n",
    "env.expert_model = ChessExpert()\n",
    "env.stockfish_opponent = ModelOpponent(agent, include_masks=True)\n",
    "# 1.2 Load the model\n",
    "model = PPO.load(\"trained_models/20250420_140954/final_model.zip\", env=env)\n",
    "# If you didn’t pickle the env, just do: model = PPO.load(\"ppo_chess.zip\")"
   ]
  },
  {
   "cell_type": "code",
   "execution_count": 18,
   "id": "28d2f7a6",
   "metadata": {},
   "outputs": [],
   "source": [
    "import os\n",
    "import numpy as np\n",
    "import imageio\n",
    "import chess.svg\n",
    "from cairosvg import svg2png\n",
    "\n",
    "\n",
    "def record_episode(model, env, out_dir=\"frames\"):\n",
    "    # Make output dir\n",
    "    os.makedirs(out_dir, exist_ok=True)\n",
    "    obs = env.reset()\n",
    "    done = False\n",
    "    frame_paths = []\n",
    "    step = 0\n",
    "\n",
    "    while not done:\n",
    "        # 2.1 Get action (deterministic or stochastic)\n",
    "        action, _ = model.predict(obs, deterministic=True)\n",
    "        obs, reward, done, info = env.step(action)\n",
    "\n",
    "        # 2.2 Render board to SVG, convert, save PNG\n",
    "        board = env.current_board  # the python-chess Board\n",
    "        svg = chess.svg.board(board=board, size=350)\n",
    "        png_data = svg2png(bytestring=svg)\n",
    "        frame_path = os.path.join(out_dir, f\"frame_{step:03d}.png\")\n",
    "        with open(frame_path, \"wb\") as f:\n",
    "            f.write(png_data)\n",
    "        frame_paths.append(frame_path)\n",
    "        step += 1\n",
    "\n",
    "    return frame_paths\n",
    "\n",
    "\n",
    "# Example usage:\n",
    "frames = record_episode(model, env)"
   ]
  },
  {
   "cell_type": "code",
   "execution_count": 20,
   "id": "8632b4c0",
   "metadata": {},
   "outputs": [
    {
     "name": "stderr",
     "output_type": "stream",
     "text": [
      "/tmp/ipykernel_555061/3443890228.py:7: DeprecationWarning: Starting with ImageIO v3 the behavior of this function will switch to that of iio.v3.imread. To keep the current behavior (and make this warning disappear) use `import imageio.v2 as imageio` or call `imageio.v2.imread` directly.\n",
      "  img = imageio.imread(fp)\n",
      "IMAGEIO FFMPEG_WRITER WARNING: input image is not divisible by macro_block_size=16, resizing from (350, 350) to (352, 352) to ensure video compatibility with most codecs and players. To prevent resizing, make your input image divisible by the macro_block_size or set the macro_block_size to 1 (risking incompatibility).\n"
     ]
    },
    {
     "name": "stderr",
     "output_type": "stream",
     "text": [
      "/tmp/ipykernel_555061/3443890228.py:14: DeprecationWarning: Starting with ImageIO v3 the behavior of this function will switch to that of iio.v3.imread. To keep the current behavior (and make this warning disappear) use `import imageio.v2 as imageio` or call `imageio.v2.imread` directly.\n",
      "  images = [imageio.imread(fp) for fp in frame_paths]\n"
     ]
    }
   ],
   "source": [
    "imageio.get_writer(\"chess_game.mp4\", fps=2, codec=\"libx264\")\n",
    "\n",
    "def make_video(frame_paths, output_path=\"chess_game.mp4\", fps=1):\n",
    "    # For MP4\n",
    "    writer = imageio.get_writer(output_path, fps=fps, codec=\"libx264\", quality=8)\n",
    "    for fp in frame_paths:\n",
    "        img = imageio.imread(fp)\n",
    "        writer.append_data(img)\n",
    "    writer.close()\n",
    "\n",
    "\n",
    "def make_gif(frame_paths, output_path=\"chess_game.gif\", fps=1):\n",
    "    # For GIF\n",
    "    images = [imageio.imread(fp) for fp in frame_paths]\n",
    "    imageio.mimsave(output_path, images, fps=fps)\n",
    "\n",
    "\n",
    "# Example usage:\n",
    "make_video(frames, \"chess_game.mp4\", fps=1)  # 1 frame per second\n",
    "# or\n",
    "make_gif(frames, \"chess_game.gif\", fps=1)"
   ]
  }
 ],
 "metadata": {
  "kernelspec": {
   "display_name": "cs670",
   "language": "python",
   "name": "python3"
  },
  "language_info": {
   "codemirror_mode": {
    "name": "ipython",
    "version": 3
   },
   "file_extension": ".py",
   "mimetype": "text/x-python",
   "name": "python",
   "nbconvert_exporter": "python",
   "pygments_lexer": "ipython3",
   "version": "3.10.16"
  }
 },
 "nbformat": 4,
 "nbformat_minor": 5
}
