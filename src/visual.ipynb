{
 "cells": [
  {
   "cell_type": "code",
   "execution_count": 3,
   "id": "3ad09e40",
   "metadata": {},
   "outputs": [],
   "source": [
    "import os\n",
    "\n",
    "import matplotlib\n",
    "\n",
    "# Set a non-interactive backend\n",
    "matplotlib.use(\"Agg\")\n",
    "import argparse\n",
    "\n",
    "import matplotlib.pyplot as plt\n",
    "import numpy as np\n",
    "from tensorboard.backend.event_processing.event_accumulator import EventAccumulator\n",
    "\n",
    "\n",
    "def parse_args():\n",
    "    parser = argparse.ArgumentParser(\n",
    "        description=\"Visualize chess RL metrics from TensorBoard logs\"\n",
    "    )\n",
    "    parser.add_argument(\n",
    "        \"--logdir\", type=str, required=True, help=\"Path to TensorBoard log directory\"\n",
    "    )\n",
    "    parser.add_argument(\n",
    "        \"--output\", type=str, default=\"plots\", help=\"Output directory for plots\"\n",
    "    )\n",
    "    parser.add_argument(\"--smooth\", type=int, default=5, help=\"Smoothing window size\")\n",
    "    return parser.parse_args()\n",
    "\n",
    "\n",
    "def extract_data(event_acc, tag):\n",
    "    \"\"\"Extract step and value data for a given tag.\"\"\"\n",
    "    if tag not in event_acc.Tags()[\"scalars\"]:\n",
    "        return None, None\n",
    "\n",
    "    events = event_acc.Scalars(tag)\n",
    "    steps = [event.step for event in events]\n",
    "    values = [event.value for event in events]\n",
    "    return steps, values"
   ]
  },
  {
   "cell_type": "code",
   "execution_count": null,
   "id": "0c8f0598",
   "metadata": {},
   "outputs": [],
   "source": []
  }
 ],
 "metadata": {
  "kernelspec": {
   "display_name": "cs670",
   "language": "python",
   "name": "python3"
  },
  "language_info": {
   "codemirror_mode": {
    "name": "ipython",
    "version": 3
   },
   "file_extension": ".py",
   "mimetype": "text/x-python",
   "name": "python",
   "nbconvert_exporter": "python",
   "pygments_lexer": "ipython3",
   "version": "3.10.16"
  }
 },
 "nbformat": 4,
 "nbformat_minor": 5
}
